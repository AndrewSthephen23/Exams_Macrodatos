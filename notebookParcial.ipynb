{
 "cells": [
  {
   "cell_type": "markdown",
   "id": "39da2d36",
   "metadata": {},
   "source": [
    "## 1. Carga y Perfilado de datos\n",
    "Primero, cargamos el dataset y realizamos un análisis preliminar para entender su estructura, tipos de datos y posibles problemas como valores nulos o duplicados."
   ]
  },
  {
   "cell_type": "code",
   "execution_count": 3,
   "id": "3aae1b78",
   "metadata": {},
   "outputs": [],
   "source": [
    "import pandas as pd\n",
    "import matplotlib.pyplot as plt\n",
    "import seaborn as sns\n",
    "import os\n",
    "\n",
    "file_path = 'EventosSismicosVolcanMisti_Dataset.csv'\n",
    "df = pd.read_csv(file_path)"
   ]
  },
  {
   "cell_type": "code",
   "execution_count": 5,
   "id": "5616a8b1",
   "metadata": {},
   "outputs": [
    {
     "name": "stdout",
     "output_type": "stream",
     "text": [
      "\n",
      "--- Perfilado Inicial de Datos ---\n",
      "\n",
      "Primeras 5 filas del dataset:\n",
      "   FECHA_CORTE  UBIGEO  ANIO DEPARTAMENTO PROVINCIA  FECHA_UTC  HORA_UTC TIPO  \\\n",
      "0     20250530     401  2024     AREQUIPA  AREQUIPA   20240101     93337   VT   \n",
      "1     20250530     401  2024     AREQUIPA  AREQUIPA   20240101    102825   VT   \n",
      "2     20250530     401  2024     AREQUIPA  AREQUIPA   20240101    104711   VT   \n",
      "3     20250530     401  2024     AREQUIPA  AREQUIPA   20240101    105517   VT   \n",
      "4     20250530     401  2024     AREQUIPA  AREQUIPA   20240101    110838   VT   \n",
      "\n",
      "   FRECUENCIA_PRINCIPAL  DURACION   ENERGIA VOLCAN  \n",
      "0                   5.6     58.59  0.000147  MISTI  \n",
      "1                   3.0     76.02  0.000149  MISTI  \n",
      "2                   2.8     44.98  0.000137  MISTI  \n",
      "3                   3.8     64.75  0.001042  MISTI  \n",
      "4                   3.8     52.50  0.000175  MISTI  \n",
      "\n",
      "Información del DataFrame:\n",
      "<class 'pandas.core.frame.DataFrame'>\n",
      "RangeIndex: 3118 entries, 0 to 3117\n",
      "Data columns (total 12 columns):\n",
      " #   Column                Non-Null Count  Dtype  \n",
      "---  ------                --------------  -----  \n",
      " 0   FECHA_CORTE           3118 non-null   int64  \n",
      " 1   UBIGEO                3118 non-null   int64  \n",
      " 2   ANIO                  3118 non-null   int64  \n",
      " 3   DEPARTAMENTO          3118 non-null   object \n",
      " 4   PROVINCIA             3118 non-null   object \n",
      " 5   FECHA_UTC             3118 non-null   int64  \n",
      " 6   HORA_UTC              3118 non-null   int64  \n",
      " 7   TIPO                  3118 non-null   object \n",
      " 8   FRECUENCIA_PRINCIPAL  3118 non-null   float64\n",
      " 9   DURACION              3118 non-null   float64\n",
      " 10  ENERGIA               3118 non-null   float64\n",
      " 11  VOLCAN                3118 non-null   object \n",
      "dtypes: float64(3), int64(5), object(4)\n",
      "memory usage: 292.4+ KB\n",
      "\n",
      "Estadísticas Descriptivas:\n",
      "       FECHA_CORTE  UBIGEO    ANIO     FECHA_UTC       HORA_UTC  \\\n",
      "count       3118.0  3118.0  3118.0  3.118000e+03    3118.000000   \n",
      "mean    20250530.0   401.0  2024.0  2.024079e+07   97731.302437   \n",
      "std            0.0     0.0     0.0  3.391954e+02   66377.022439   \n",
      "min     20250530.0   401.0  2024.0  2.024010e+07      50.000000   \n",
      "25%     20250530.0   401.0  2024.0  2.024052e+07   43681.250000   \n",
      "50%     20250530.0   401.0  2024.0  2.024090e+07   84427.000000   \n",
      "75%     20250530.0   401.0  2024.0  2.024111e+07  141494.250000   \n",
      "max     20250530.0   401.0  2024.0  2.024123e+07  235928.000000   \n",
      "\n",
      "       FRECUENCIA_PRINCIPAL     DURACION      ENERGIA  \n",
      "count           3118.000000  3118.000000  3118.000000  \n",
      "mean               4.479442    30.605026     0.004304  \n",
      "std                1.804757    97.726317     0.142554  \n",
      "min                0.100000     5.100000     0.000004  \n",
      "25%                3.100000    10.432500     0.000027  \n",
      "50%                3.800000    16.655000     0.000057  \n",
      "75%                5.300000    38.480000     0.000151  \n",
      "max               16.400000  3355.460000     6.580343  \n",
      "\n",
      "Valores Nulos por Columna:\n",
      "FECHA_CORTE             0\n",
      "UBIGEO                  0\n",
      "ANIO                    0\n",
      "DEPARTAMENTO            0\n",
      "PROVINCIA               0\n",
      "FECHA_UTC               0\n",
      "HORA_UTC                0\n",
      "TIPO                    0\n",
      "FRECUENCIA_PRINCIPAL    0\n",
      "DURACION                0\n",
      "ENERGIA                 0\n",
      "VOLCAN                  0\n",
      "dtype: int64\n",
      "\n",
      "Número de Filas Duplicadas:\n",
      "0\n"
     ]
    }
   ],
   "source": [
    "# --- 1. Perfilado de Datos ---\n",
    "print(\"\\n--- Perfilado Inicial de Datos ---\")\n",
    "\n",
    "# Muestra las primeras 5 filas\n",
    "print(\"\\nPrimeras 5 filas del dataset:\")\n",
    "print(df.head())\n",
    "\n",
    "# Muestra información general (tipos de datos, nulos)\n",
    "print(\"\\nInformación del DataFrame:\")\n",
    "df.info()\n",
    "\n",
    "# Muestra estadísticas descriptivas para columnas numéricas\n",
    "print(\"\\nEstadísticas Descriptivas:\")\n",
    "print(df.describe())\n",
    "\n",
    "# Verifica valores nulos\n",
    "print(\"\\nValores Nulos por Columna:\")\n",
    "print(df.isnull().sum())\n",
    "\n",
    "# Verifica filas duplicadas\n",
    "print(\"\\nNúmero de Filas Duplicadas:\")\n",
    "print(df.duplicated().sum())"
   ]
  },
  {
   "cell_type": "markdown",
   "id": "080db08f",
   "metadata": {},
   "source": [
    "## 2. Limpieza y Transformación de Datos \n",
    "En este paso, realizamos las siguientes acciones:\n",
    "\n",
    "1. Combinamos FECHA_UTC y HORA_UTC en una sola columna de tipo datetime para facilitar análisis temporales.\n",
    "\n",
    "2. Convertimos FECHA_CORTE a formato datetime.\n",
    "\n",
    "3. Reorganizamos las columnas para un mejor entendimiento."
   ]
  },
  {
   "cell_type": "code",
   "execution_count": 6,
   "id": "449bb4ac",
   "metadata": {},
   "outputs": [
    {
     "name": "stdout",
     "output_type": "stream",
     "text": [
      "\n",
      "--- Limpiando y Transformando Datos ---\n",
      "\n",
      "Dataset después de la limpieza y transformación:\n",
      "  FECHA_CORTE        DATETIME_UTC  UBIGEO  ANIO DEPARTAMENTO PROVINCIA TIPO  \\\n",
      "0  2025-05-30 2024-01-01 09:33:37     401  2024     AREQUIPA  AREQUIPA   VT   \n",
      "1  2025-05-30 2024-01-01 10:28:25     401  2024     AREQUIPA  AREQUIPA   VT   \n",
      "2  2025-05-30 2024-01-01 10:47:11     401  2024     AREQUIPA  AREQUIPA   VT   \n",
      "3  2025-05-30 2024-01-01 10:55:17     401  2024     AREQUIPA  AREQUIPA   VT   \n",
      "4  2025-05-30 2024-01-01 11:08:38     401  2024     AREQUIPA  AREQUIPA   VT   \n",
      "\n",
      "   FRECUENCIA_PRINCIPAL  DURACION   ENERGIA VOLCAN  \n",
      "0                   5.6     58.59  0.000147  MISTI  \n",
      "1                   3.0     76.02  0.000149  MISTI  \n",
      "2                   2.8     44.98  0.000137  MISTI  \n",
      "3                   3.8     64.75  0.001042  MISTI  \n",
      "4                   3.8     52.50  0.000175  MISTI  \n",
      "\n",
      "Nueva información del DataFrame:\n",
      "<class 'pandas.core.frame.DataFrame'>\n",
      "RangeIndex: 3118 entries, 0 to 3117\n",
      "Data columns (total 11 columns):\n",
      " #   Column                Non-Null Count  Dtype         \n",
      "---  ------                --------------  -----         \n",
      " 0   FECHA_CORTE           3118 non-null   datetime64[ns]\n",
      " 1   DATETIME_UTC          3118 non-null   datetime64[ns]\n",
      " 2   UBIGEO                3118 non-null   int64         \n",
      " 3   ANIO                  3118 non-null   int64         \n",
      " 4   DEPARTAMENTO          3118 non-null   object        \n",
      " 5   PROVINCIA             3118 non-null   object        \n",
      " 6   TIPO                  3118 non-null   object        \n",
      " 7   FRECUENCIA_PRINCIPAL  3118 non-null   float64       \n",
      " 8   DURACION              3118 non-null   float64       \n",
      " 9   ENERGIA               3118 non-null   float64       \n",
      " 10  VOLCAN                3118 non-null   object        \n",
      "dtypes: datetime64[ns](2), float64(3), int64(2), object(4)\n",
      "memory usage: 268.1+ KB\n"
     ]
    }
   ],
   "source": [
    "# --- 2. Limpieza y Transformación ---\n",
    "print(\"\\n--- Limpiando y Transformando Datos ---\")\n",
    "df_cleaned = df.copy()\n",
    "\n",
    "# Combina FECHA_UTC y HORA_UTC en una columna DATETIME_UTC\n",
    "# Convierte a string y rellena la hora con ceros a la izquierda para un formato estándar\n",
    "df_cleaned['FECHA_UTC_STR'] = df_cleaned['FECHA_UTC'].astype(str)\n",
    "df_cleaned['HORA_UTC_STR'] = df_cleaned['HORA_UTC'].astype(str).str.zfill(6)\n",
    "\n",
    "# Crea la columna datetime. 'coerce' convertirá fechas inválidas en NaT (Not a Time)\n",
    "df_cleaned['DATETIME_UTC'] = pd.to_datetime(\n",
    "    df_cleaned['FECHA_UTC_STR'] + df_cleaned['HORA_UTC_STR'], \n",
    "    format='%Y%m%d%H%M%S', \n",
    "    errors='coerce'\n",
    ")\n",
    "\n",
    "# Convierte FECHA_CORTE\n",
    "df_cleaned['FECHA_CORTE'] = pd.to_datetime(df_cleaned['FECHA_CORTE'], format='%Y%m%d')\n",
    "\n",
    "# Elimina las columnas auxiliares y las originales de fecha/hora\n",
    "df_cleaned = df_cleaned.drop(columns=['FECHA_UTC_STR', 'HORA_UTC_STR', 'FECHA_UTC', 'HORA_UTC'])\n",
    "\n",
    "# Elimina filas donde la conversión de fecha falló (si las hubiera)\n",
    "df_cleaned.dropna(subset=['DATETIME_UTC'], inplace=True)\n",
    "\n",
    "# Reordena las columnas para mayor claridad\n",
    "df_cleaned = df_cleaned[[\n",
    "    'FECHA_CORTE', 'DATETIME_UTC', 'UBIGEO', 'ANIO', 'DEPARTAMENTO', \n",
    "    'PROVINCIA', 'TIPO', 'FRECUENCIA_PRINCIPAL', 'DURACION', \n",
    "    'ENERGIA', 'VOLCAN'\n",
    "]]\n",
    "\n",
    "print(\"\\nDataset después de la limpieza y transformación:\")\n",
    "print(df_cleaned.head())\n",
    "\n",
    "print(\"\\nNueva información del DataFrame:\")\n",
    "df_cleaned.info()"
   ]
  },
  {
   "cell_type": "markdown",
   "id": "4b300e84",
   "metadata": {},
   "source": [
    "## Detección de Outliers (Valores Atípicos)\n",
    "Visualizamos las distribuciones de las columnas numéricas clave para identificar posibles valores atípicos que podrían afectar los análisis estadísticos. Usaremos diagramas de caja (box plots) para esto."
   ]
  },
  {
   "cell_type": "code",
   "execution_count": 7,
   "id": "b8ec2e6e",
   "metadata": {},
   "outputs": [
    {
     "name": "stdout",
     "output_type": "stream",
     "text": [
      "\n",
      "--- Generando Gráficos para Detección de Outliers ---\n",
      "\n",
      "Gráfico 'outlier_boxplots.png' generado para mostrar outliers.\n"
     ]
    },
    {
     "data": {
      "image/png": "[encoded data removed]",
      "text/plain": [
       "<Figure size 1800x600 with 3 Axes>"
      ]
     },
     "metadata": {},
     "output_type": "display_data"
    }
   ],
   "source": [
    "# --- 3. Detección de Outliers ---\n",
    "print(\"\\n--- Generando Gráficos para Detección de Outliers ---\")\n",
    "numerical_cols = ['FRECUENCIA_PRINCIPAL', 'DURACION', 'ENERGIA']\n",
    "\n",
    "plt.figure(figsize=(18, 6))\n",
    "for i, col in enumerate(numerical_cols):\n",
    "    plt.subplot(1, 3, i + 1)\n",
    "    sns.boxplot(y=df_cleaned[col])\n",
    "    plt.title(f'Diagrama de Caja de {col}', fontsize=14)\n",
    "    plt.ylabel(col)\n",
    "\n",
    "plt.tight_layout()\n",
    "plt.savefig('outlier_boxplots.png')\n",
    "print(\"\\nGráfico 'outlier_boxplots.png' generado para mostrar outliers.\")"
   ]
  },
  {
   "cell_type": "markdown",
   "id": "c11bc688",
   "metadata": {},
   "source": [
    "**Interpretación de los Gráficos:**\n",
    "\n",
    "Las columnas DURACION y ENERGIA muestran una cantidad significativa de valores atípicos (los puntos fuera de los \"bigotes\" del diagrama). Esto es común en datos de eventos naturales, donde algunos eventos son mucho más extremos que la mayoría. Para los análisis en Hadoop, podríamos considerar estrategias como la transformación logarítmica o el filtrado de estos valores dependiendo de la pregunta que queremos responder.\n",
    "\n",
    "## Generación del CSV Final \n",
    "Finalmente, guardamos el DataFrame limpio en un nuevo archivo CSV. Este archivo será el input para los trabajos de MapReduce en Hadoop y para la visualización en Power BI."
   ]
  },
  {
   "cell_type": "code",
   "execution_count": 8,
   "id": "f328904f",
   "metadata": {},
   "outputs": [
    {
     "name": "stdout",
     "output_type": "stream",
     "text": [
      "\n",
      "✅ ¡Proceso completado! El dataset limpio se ha guardado en: 'EventosSismicosVolcanMisti_Cleaned.csv'\n"
     ]
    }
   ],
   "source": [
    "# --- 4. Guardar el dataset limpio ---\n",
    "cleaned_file_path = 'EventosSismicosVolcanMisti_Cleaned.csv'\n",
    "df_cleaned.to_csv(cleaned_file_path, index=False)\n",
    "print(f\"\\n✅ ¡Proceso completado! El dataset limpio se ha guardado en: '{cleaned_file_path}'\")"
   ]
  }
 ],
 "metadata": {
  "kernelspec": {
   "display_name": "Python 3",
   "language": "python",
   "name": "python3"
  },
  "language_info": {
   "codemirror_mode": {
    "name": "ipython",
    "version": 3
   },
   "file_extension": ".py",
   "mimetype": "text/x-python",
   "name": "python",
   "nbconvert_exporter": "python",
   "pygments_lexer": "ipython3",
   "version": "3.14.0"
  }
 },
 "nbformat": 4,
 "nbformat_minor": 5
}
